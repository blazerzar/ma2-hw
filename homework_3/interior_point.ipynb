{
 "cells": [
  {
   "cell_type": "markdown",
   "metadata": {},
   "source": [
    "# Homework 3 part 2"
   ]
  },
  {
   "cell_type": "code",
   "execution_count": 1,
   "metadata": {},
   "outputs": [],
   "source": [
    "from collections import namedtuple\n",
    "\n",
    "import numpy as np\n",
    "from numpy.typing import NDArray\n",
    "from tqdm import tqdm\n",
    "from scipy.optimize import linprog"
   ]
  },
  {
   "cell_type": "markdown",
   "metadata": {},
   "source": [
    "## Interior-point algorithm"
   ]
  },
  {
   "cell_type": "code",
   "execution_count": 12,
   "metadata": {},
   "outputs": [],
   "source": [
    "Solution = namedtuple('Solution', ['x', 'y', 's', 'mu'])\n",
    "\n",
    "\n",
    "def interior_point_step(\n",
    "    A: NDArray, b: NDArray, c: NDArray, solution: Solution\n",
    ") -> Solution:\n",
    "    \"\"\"Compute the next solution to problem:\n",
    "        Ax = b\n",
    "        A^Ty + s = c\n",
    "        x > 0, s > 0\n",
    "    with\n",
    "        mu' = (1 - 1 / (6 * sqrt(m))) * mu\n",
    "\n",
    "    Parameters:\n",
    "        - A: constraints matrix\n",
    "        - b: constraints vector\n",
    "        - c: cost vector\n",
    "        - solution: current solution (x, y, s, mu)\n",
    "\n",
    "    Returns:\n",
    "        - new solution (x', y', s', mu')\n",
    "    \"\"\"\n",
    "    m = A.shape[1]\n",
    "    mu = (1 - 1 / (6 * np.sqrt(m))) * solution.mu\n",
    "\n",
    "    S_inv = np.diag(1 / solution.s)\n",
    "    X = np.diag(solution.x)\n",
    "    e = np.ones(m)\n",
    "\n",
    "    # Solve system (S): (AS^(-1)XA^T) k = b - mu'AS^(-1)e\n",
    "    k = np.linalg.solve(A @ S_inv @ X @ A.T, b - mu * A @ S_inv @ e)\n",
    "    f = -A.T @ k\n",
    "    h = -X @ S_inv @ f + mu * S_inv @ e - solution.x\n",
    "\n",
    "    x = solution.x + h\n",
    "    y = solution.y + k\n",
    "    s = solution.s + f\n",
    "\n",
    "    return Solution(x, y, s, mu)\n",
    "\n",
    "\n",
    "def interior_point(A: NDArray, b: NDArray, c: NDArray, solution: Solution) -> Solution:\n",
    "    \"\"\"Solve the problem:\n",
    "        min c^Tx\n",
    "        Ax = b\n",
    "        A^Ty + s = c\n",
    "        x > 0, s > 0\n",
    "\n",
    "    Parameters:\n",
    "        - A: constraints matrix\n",
    "        - b: constraints vector\n",
    "        - c: cost vector\n",
    "        - solution: initial solution (x0, y0, s0, mu0)\n",
    "\n",
    "    Returns:\n",
    "        - solution (x, y, s, mu)\n",
    "    \"\"\"\n",
    "    with tqdm(desc=f'{c.dot(solution.x)}') as pbar:\n",
    "        while True:\n",
    "            pbar.update()\n",
    "\n",
    "            new_solution = interior_point_step(A, b, c, solution)\n",
    "            pbar.set_description(f'{c.dot(new_solution.x)}')\n",
    "\n",
    "            if np.linalg.norm(new_solution.x - solution.x) < 1e-8:\n",
    "                break\n",
    "            solution = new_solution\n",
    "    pbar.close()\n",
    "    return solution"
   ]
  },
  {
   "cell_type": "markdown",
   "metadata": {},
   "source": [
    "We define the linear program and the initial solution."
   ]
  },
  {
   "cell_type": "code",
   "execution_count": 13,
   "metadata": {},
   "outputs": [],
   "source": [
    "A = np.array([[3, 3, 3, 0, 0], [3, 1, 0, 1, 0], [1, 4, 0, 0, 1]])\n",
    "c = np.array([-3, -4, 0, 0, 0])\n",
    "b = np.array([4, 3, 4])\n",
    "\n",
    "x = np.array([2 / 5, 8 / 15, 2 / 5, 19 / 15, 22 / 15])\n",
    "y = np.array([-4 / 5, -4 / 5, -2 / 3])\n",
    "s = np.array([37 / 15, 28 / 15, 12 / 5, 4 / 5, 2 / 3])\n",
    "mu = 1"
   ]
  },
  {
   "cell_type": "markdown",
   "metadata": {},
   "source": [
    "Check if the solution is strictly feasible."
   ]
  },
  {
   "cell_type": "code",
   "execution_count": 14,
   "metadata": {},
   "outputs": [
    {
     "name": "stdout",
     "output_type": "stream",
     "text": [
      "Ax = b: True\n",
      "A^Ty + s = c: True\n",
      "x_i, s_j != 0 True\n"
     ]
    }
   ],
   "source": [
    "print('Ax = b:', np.allclose(A @ x, b))\n",
    "print('A^Ty + s = c:', np.allclose(A.T @ y + s, c))\n",
    "print('x_i, s_j != 0', np.all(x > 1e-11) and np.all(s > 1e-11))"
   ]
  },
  {
   "cell_type": "code",
   "execution_count": 15,
   "metadata": {},
   "outputs": [
    {
     "name": "stdout",
     "output_type": "stream",
     "text": [
      "σ² = 0.0016232448664881226\n",
      "σ² = 0.002469135802469144\n",
      "σ² <= 1/4: True\n"
     ]
    }
   ],
   "source": [
    "# Mean of x * s works for mu\n",
    "print('σ² =', np.sum((x * s / np.mean(x * s) - 1) ** 2))\n",
    "\n",
    "print('σ² =', np.sum((x * s / mu - 1) ** 2))\n",
    "print('σ² <= 1/4:', np.sum((x * s / mu - 1) ** 2) <= 1 / 4)"
   ]
  },
  {
   "cell_type": "code",
   "execution_count": 16,
   "metadata": {},
   "outputs": [
    {
     "name": "stderr",
     "output_type": "stream",
     "text": [
      "-4.88888887655142: : 53it [00:00, 2189.37it/s]  "
     ]
    },
    {
     "name": "stdout",
     "output_type": "stream",
     "text": [
      "x = [0.44444 0.88889 0.      0.77778 0.     ]\n",
      "y = [-0.88889 -0.      -0.33333]\n",
      "s = [0.      0.      2.66667 0.      0.33333]\n",
      "mu = 8.81247870897229e-09\n"
     ]
    },
    {
     "name": "stderr",
     "output_type": "stream",
     "text": [
      "\n"
     ]
    }
   ],
   "source": [
    "solution = interior_point(A, b, c, Solution(x, y, s, mu))\n",
    "print('x =', solution.x.round(5))\n",
    "print('y =', solution.y.round(5))\n",
    "print('s =', solution.s.round(5))\n",
    "print('mu =', solution.mu)"
   ]
  },
  {
   "cell_type": "markdown",
   "metadata": {},
   "source": [
    "### Analytical solution\n",
    "\n",
    "We add equations:\n",
    "- x_3 = 0\n",
    "- x_5 = 0\n",
    "- s_1 = 0\n",
    "- s_2 = 0\n",
    "- s_4 = 0"
   ]
  },
  {
   "cell_type": "code",
   "execution_count": 16,
   "metadata": {},
   "outputs": [
    {
     "name": "stdout",
     "output_type": "stream",
     "text": [
      "x = [ 0.44444  0.88889 -0.       0.77778  0.     ]\n",
      "y = [-0.88889  0.      -0.33333]\n",
      "s = [0.      0.      2.66667 0.      0.33333]\n"
     ]
    }
   ],
   "source": [
    "B = np.zeros((len(b) + len(c) + 5, len(x) + len(y) + len(s)))\n",
    "# Ax = b\n",
    "B[: len(b), : len(x)] = A\n",
    "# A^Ty + s = c\n",
    "B[len(b) : len(b) + len(c), len(x) : len(x) + len(y)] = A.T\n",
    "B[len(b) : len(b) + len(c), len(x) + len(y) :] = np.eye(len(c))\n",
    "# New equations for x and s\n",
    "B[[np.arange(len(b) + len(c), B.shape[0])], [2, 4, 8, 9, 11]] = 1\n",
    "\n",
    "d = np.concatenate([b, c, np.zeros(5)])\n",
    "\n",
    "xys = np.linalg.solve(B, d)\n",
    "print('x =', xys[: len(x)].round(5))\n",
    "print('y =', xys[len(x) : len(x) + len(y)].round(5))\n",
    "print('s =', xys[len(x) + len(y) :].round(5))"
   ]
  },
  {
   "cell_type": "markdown",
   "metadata": {},
   "source": [
    "## Commercial solver"
   ]
  },
  {
   "cell_type": "markdown",
   "metadata": {},
   "source": [
    "We use the `scipy`'s implementation of the simplex and interior-point method\n",
    "to solve the linear program."
   ]
  },
  {
   "cell_type": "code",
   "execution_count": 17,
   "metadata": {},
   "outputs": [
    {
     "name": "stdout",
     "output_type": "stream",
     "text": [
      "x = [0.44444444 0.88888889 0.         0.77777778 0.        ]\n",
      "Iterations: 3\n",
      "Cost: -4.888888888888889\n"
     ]
    }
   ],
   "source": [
    "res_simplex = linprog(c, A_eq=A, b_eq=b, method='highs-ds')\n",
    "print('x =', res_simplex.x)\n",
    "print('Iterations:', res_simplex.nit)\n",
    "print('Cost:', res_simplex.fun)"
   ]
  },
  {
   "cell_type": "code",
   "execution_count": 18,
   "metadata": {},
   "outputs": [
    {
     "name": "stdout",
     "output_type": "stream",
     "text": [
      "x = [0.44444444 0.88888889 0.         0.77777778 0.        ]\n",
      "Iterations: 5\n",
      "Cost: -4.888888888888889\n"
     ]
    }
   ],
   "source": [
    "res_interior_point = linprog(c, A_eq=A, b_eq=b, method='highs-ipm')\n",
    "print('x =', res_interior_point.x)\n",
    "print('Iterations:', res_interior_point.nit)\n",
    "print('Cost:', res_interior_point.fun)"
   ]
  }
 ],
 "metadata": {
  "kernelspec": {
   "display_name": "data-science",
   "language": "python",
   "name": "python3"
  },
  "language_info": {
   "codemirror_mode": {
    "name": "ipython",
    "version": 3
   },
   "file_extension": ".py",
   "mimetype": "text/x-python",
   "name": "python",
   "nbconvert_exporter": "python",
   "pygments_lexer": "ipython3",
   "version": "3.11.5"
  }
 },
 "nbformat": 4,
 "nbformat_minor": 2
}
